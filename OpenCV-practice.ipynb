{
 "cells": [
  {
   "cell_type": "code",
   "execution_count": 132,
   "id": "c2d73b79",
   "metadata": {},
   "outputs": [],
   "source": [
    "import cv2\n",
    "from matplotlib import pyplot as plt\n",
    "import numpy as np"
   ]
  },
  {
   "cell_type": "code",
   "execution_count": 222,
   "id": "bcbccbb1",
   "metadata": {},
   "outputs": [],
   "source": [
    "img = cv2.imread('image/test2.png')"
   ]
  },
  {
   "cell_type": "code",
   "execution_count": 223,
   "id": "6b3103cf",
   "metadata": {},
   "outputs": [],
   "source": [
    "cv2.imshow('wallpaper', img)\n",
    "cv2.waitKey(0)#キー入力まで待機\n",
    "cv2.destroyAllWindows()"
   ]
  },
  {
   "cell_type": "code",
   "execution_count": 224,
   "id": "a2344e63",
   "metadata": {},
   "outputs": [
    {
     "data": {
      "text/plain": [
       "True"
      ]
     },
     "execution_count": 224,
     "metadata": {},
     "output_type": "execute_result"
    }
   ],
   "source": [
    "#resize\n",
    "resize = cv2.resize(img,dsize=None,fx=0.5,fy=0.5)\n",
    "#dsize(x,y)で直接指定\n",
    "\n",
    "cv2.imshow('resize', resize)\n",
    "cv2.waitKey(0)#キー入力まで待機\n",
    "cv2.destroyAllWindows()\n",
    "\n",
    "cv2.imwrite('image/wallpaper-resize.png',resize)"
   ]
  },
  {
   "cell_type": "code",
   "execution_count": 225,
   "id": "890741ec",
   "metadata": {},
   "outputs": [
    {
     "data": {
      "text/plain": [
       "'\\n# ウィンドウを作成\\ncv2.namedWindow(WINDOW_NAME)\\n\\nBGRをグレースケールに変換\\tcv.COLOR_BGR2GRAY\\tcv.COLOR_GRAY2BGR\\nBGRにアルファチャンネルを追加\\tcv.COLOR_BGR2BGRA\\tcv.COLOR_BGRA2BGR\\nBGRをHSVに変換\\tcv.COLOR_BGR2HSV\\tcv.COLOR_HSV2BGR\\nBGRをLabに変換\\tcv.COLOR_BGR2Lab\\tcv.COLOR_Lab2BGR\\nBGRをLuvに変換\\tcv.COLOR_BGR2Luv\\tcv.COLOR_Luv2BGR\\nBGRをHLSに変換\\tcv.COLOR_BGR2HLS\\tcv.COLOR_HLS2BGR\\nBGRをYUVに変換\\tcv.COLOR_BGR2YUV\\tcv.COLOR_YUV2BGR\\nBGRをXYZに変換\\tcv.COLOR_BGR2XYZ\\tcv.COLOR_XYZ2BGR\\nBGRをYCrCbに変換\\tcv.COLOR_BGR2YCrCb\\tcv.COLOR_YCrCb2BGR\\n'"
      ]
     },
     "execution_count": 225,
     "metadata": {},
     "output_type": "execute_result"
    }
   ],
   "source": [
    "\"\"\"\n",
    "# ウィンドウを作成\n",
    "cv2.namedWindow(WINDOW_NAME)\n",
    "\n",
    "BGRをグレースケールに変換\tcv.COLOR_BGR2GRAY\tcv.COLOR_GRAY2BGR\n",
    "BGRにアルファチャンネルを追加\tcv.COLOR_BGR2BGRA\tcv.COLOR_BGRA2BGR\n",
    "BGRをHSVに変換\tcv.COLOR_BGR2HSV\tcv.COLOR_HSV2BGR\n",
    "BGRをLabに変換\tcv.COLOR_BGR2Lab\tcv.COLOR_Lab2BGR\n",
    "BGRをLuvに変換\tcv.COLOR_BGR2Luv\tcv.COLOR_Luv2BGR\n",
    "BGRをHLSに変換\tcv.COLOR_BGR2HLS\tcv.COLOR_HLS2BGR\n",
    "BGRをYUVに変換\tcv.COLOR_BGR2YUV\tcv.COLOR_YUV2BGR\n",
    "BGRをXYZに変換\tcv.COLOR_BGR2XYZ\tcv.COLOR_XYZ2BGR\n",
    "BGRをYCrCbに変換\tcv.COLOR_BGR2YCrCb\tcv.COLOR_YCrCb2BGR\n",
    "\"\"\""
   ]
  },
  {
   "cell_type": "code",
   "execution_count": 226,
   "id": "a456e878",
   "metadata": {},
   "outputs": [
    {
     "data": {
      "text/plain": [
       "True"
      ]
     },
     "execution_count": 226,
     "metadata": {},
     "output_type": "execute_result"
    }
   ],
   "source": [
    "#grayscale\n",
    "gray = cv2.cvtColor(resize, cv2.COLOR_BGR2GRAY)#グレースケール化\n",
    "\n",
    "cv2.imshow('gray', gray)\n",
    "cv2.waitKey(0)\n",
    "cv2.destroyAllWindows()\n",
    "\n",
    "cv2.imwrite('image/wallpaper-gray.png',gray)"
   ]
  },
  {
   "cell_type": "code",
   "execution_count": 234,
   "id": "31038e05",
   "metadata": {},
   "outputs": [
    {
     "data": {
      "text/plain": [
       "True"
      ]
     },
     "execution_count": 234,
     "metadata": {},
     "output_type": "execute_result"
    }
   ],
   "source": [
    "#2GRAY\n",
    "ret ,binary1 = cv2.threshold(gray, 127, 255, cv2.THRESH_BINARY)#二極化\n",
    "ret ,binary2 = cv2.threshold(gray, 127, 255, cv2.THRESH_BINARY_INV)\n",
    "\n",
    "cv2.imshow('binary1', binary1)\n",
    "cv2.imshow('binary2', binary2)\n",
    "cv2.waitKey(0)\n",
    "cv2.destroyAllWindows()\n",
    "\n",
    "cv2.imwrite('image/wallpaper-binary1.png',binary1)\n",
    "cv2.imwrite('image/wallpaper-binary2.png',binary2)"
   ]
  },
  {
   "cell_type": "code",
   "execution_count": 216,
   "id": "5185dbb3",
   "metadata": {},
   "outputs": [
    {
     "data": {
      "text/plain": [
       "True"
      ]
     },
     "execution_count": 216,
     "metadata": {},
     "output_type": "execute_result"
    }
   ],
   "source": [
    "#色調変換\n",
    "cvt_color = cv2.cvtColor(resize, cv2.COLOR_BGR2LAB)\n",
    "\n",
    "cv2.imshow('cvt', cvt_color)\n",
    "cv2.waitKey(0)\n",
    "cv2.destroyAllWindows()\n",
    "\n",
    "cv2.imwrite('image/wallpaper-cvtColor.png',cvt_color)"
   ]
  },
  {
   "cell_type": "code",
   "execution_count": 217,
   "id": "2114430a",
   "metadata": {},
   "outputs": [
    {
     "data": {
      "text/plain": [
       "True"
      ]
     },
     "execution_count": 217,
     "metadata": {},
     "output_type": "execute_result"
    }
   ],
   "source": [
    "#RGB\n",
    "cvt_RGB = cv2.cvtColor(img, cv2.COLOR_BGR2RGBA)\n",
    "\n",
    "cv2.imshow('cvtRGB', cvt_RGB)\n",
    "cv2.waitKey(0)\n",
    "cv2.destroyAllWindows()\n",
    "\n",
    "cv2.imwrite('image/wallpaper-cvtRGB.png',cvt_RGB)"
   ]
  },
  {
   "cell_type": "code",
   "execution_count": 220,
   "id": "b842e15c",
   "metadata": {},
   "outputs": [],
   "source": [
    "#色分離\n",
    "\n",
    "# ゼロ埋めの画像配列\n",
    "\n",
    "img = resize\n",
    "\n",
    "if len(img.shape) == 3:\n",
    "    height, width, channels = img.shape[:3]\n",
    "else:\n",
    "    height, width = img.shape[:2]\n",
    "    channels = 1\n",
    "zeros = np.zeros((height, width), img.dtype)\n",
    "\n",
    "\n",
    "\n",
    "img_blue_c1, img_green_c1, img_red_c1 = cv2.split(img)\n",
    "\n",
    "img_blue_c3 = cv2.merge((img_blue_c1, zeros, zeros))\n",
    "img_green_c3 = cv2.merge((zeros, img_green_c1, zeros))\n",
    "img_red_c3 = cv2.merge((zeros, zeros, img_red_c1))\n",
    "\n",
    "cv2.imshow('R', img_red_c3)\n",
    "cv2.imshow('G', img_green_c3)\n",
    "cv2.imshow('B', img_blue_c3)\n",
    "cv2.waitKey(0)\n",
    "cv2.destroyAllWindows()\n"
   ]
  },
  {
   "cell_type": "code",
   "execution_count": 219,
   "id": "a503c94d",
   "metadata": {},
   "outputs": [
    {
     "data": {
      "image/png": "[encoded data removed]",
      "text/plain": [
       "<Figure size 640x480 with 1 Axes>"
      ]
     },
     "metadata": {},
     "output_type": "display_data"
    }
   ],
   "source": [
    "#ヒストグラム\n",
    "\n",
    "color = (\"b\",\"g\",\"r\")\n",
    "\n",
    "for i,col in enumerate(color):\n",
    "    hist = cv2.calcHist(images=[cvt_color], channels=[i],\n",
    "                       mask=None, histSize=[256], ranges=[0,256])\n",
    "    #cv2.calcHist(画像オブジェクト, チャンネル, マスク,\n",
    "    #ヒストグラムのサイズ,ヒストグラムのレンジ)\n",
    "    plt.plot(hist, color= col)\n",
    "    plt.xlim([0,256])\n",
    "    \n",
    "plt.show()"
   ]
  },
  {
   "cell_type": "code",
   "execution_count": null,
   "id": "4cdcaa35",
   "metadata": {},
   "outputs": [],
   "source": []
  },
  {
   "cell_type": "code",
   "execution_count": null,
   "id": "b17f5dc4",
   "metadata": {},
   "outputs": [],
   "source": []
  }
 ],
 "metadata": {
  "kernelspec": {
   "display_name": "Python 3 (ipykernel)",
   "language": "python",
   "name": "python3"
  },
  "language_info": {
   "codemirror_mode": {
    "name": "ipython",
    "version": 3
   },
   "file_extension": ".py",
   "mimetype": "text/x-python",
   "name": "python",
   "nbconvert_exporter": "python",
   "pygments_lexer": "ipython3",
   "version": "3.11.4"
  }
 },
 "nbformat": 4,
 "nbformat_minor": 5
}
